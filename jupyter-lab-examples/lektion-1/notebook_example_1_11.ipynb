{
 "cells": [
  {
   "cell_type": "code",
   "execution_count": null,
   "id": "a34133f8-ed87-4e87-b586-2d470db85ac5",
   "metadata": {},
   "outputs": [],
   "source": [
    "#########################################################################################################################################\n",
    "#                                                                                                                                       #\n",
    "#    Autor: Dr. A. Schelle (support@krealix.de). Copyright : IU Internationale Hochschule GmbH, Juri-Gagarin-Ring 152, D-99084 Erfurt   #\n",
    "#                                                                                                                                       #\n",
    "#########################################################################################################################################\n",
    "\n",
    "# PYTHON ROUTINE zum Gaußschen Grenzwertsatz #\n",
    "\n",
    "import os\n",
    "from re import X\n",
    "import sys\n",
    "import math\n",
    "from unittest import result\n",
    "import numpy\n",
    "import numpy as np\n",
    "import numdifftools as nd\n",
    "import matplotlib.pyplot as plt\n",
    "from sympy import *\n",
    "import random  \n",
    " \n",
    "a = [25.0, 50.0, 75.0, 100.0, 125.0] # Define list of mean values\n",
    "b = [5.0, 7.5, 10.0, 12.5, 15.0] # Define list of sigma values\n",
    "\n",
    "M = 10000000 # Define number of iterations\n",
    "L = 5 # Number of random variables with Gauß distributions\n",
    "\n",
    "f = [] # Collecting list for final function f \n",
    "\n",
    "random_var = 0.0 # Sum of random variables\n",
    "\n",
    "for l in range(M):\n",
    "\n",
    "    random_var = 0.0 # Set random variables to zero\n",
    "\n",
    "    print(l) # Show the number of iterations\n",
    "\n",
    "    for k in range(L):\n",
    "\n",
    "        random_var = random_var + random.gauss(a[k],b[k]) # Sum of Gauß random variables\n",
    "    \n",
    "    f.append(random_var) # Collect random variables\n",
    "    \n",
    "plt.figure(1) # Initiate plot of figure\n",
    "plt.xlabel('$\\mu=\\mu_1+\\mu_2+\\mu_3+\\mu_4+\\mu_5$', fontsize = 10)\n",
    "plt.ylabel('$f(\\mu)$', fontsize = 10)\n",
    "plt.hist(f, bins = 500) # Plot the figure\n",
    "plt.savefig('/path_to_figure/') # Save the figure to the correct path. You can find your path with the command 'pwd'.\n",
    "\n"
   ]
  }
 ],
 "metadata": {
  "kernelspec": {
   "display_name": "Python 3 (ipykernel)",
   "language": "python",
   "name": "python3"
  },
  "language_info": {
   "codemirror_mode": {
    "name": "ipython",
    "version": 3
   },
   "file_extension": ".py",
   "mimetype": "text/x-python",
   "name": "python",
   "nbconvert_exporter": "python",
   "pygments_lexer": "ipython3",
   "version": "3.9.12"
  }
 },
 "nbformat": 4,
 "nbformat_minor": 5
}
