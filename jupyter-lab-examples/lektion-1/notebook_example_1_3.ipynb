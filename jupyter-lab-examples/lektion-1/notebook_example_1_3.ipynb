{
 "cells": [
  {
   "cell_type": "code",
   "execution_count": null,
   "id": "a34133f8-ed87-4e87-b586-2d470db85ac5",
   "metadata": {},
   "outputs": [],
   "source": [
    "#########################################################################################################################################\n",
    "#                                                                                                                                       #\n",
    "#    Autor: Dr. A. Schelle (support@krealix.de). Copyright : IU Internationale Hochschule GmbH, Juri-Gagarin-Ring 152, D-99084 Erfurt   #\n",
    "#                                                                                                                                       #\n",
    "#########################################################################################################################################\n",
    "\n",
    "# PYTHON ROUTINE zur einfachen Illustration von Aufbau künstlicher Intelligenz #\n",
    "\n",
    "import os\n",
    "import sys\n",
    "import math\n",
    "\n",
    "jg = 0.0 # Yearly income\n",
    "sl = 0.0 # Hourly income\n",
    "\n",
    "ghk = ''; # Income class\n",
    "\n",
    "print('Bitte geben Sie den vorgeschlagenen Stundenlohn in Euro an :')\n",
    "\n",
    "sl = input()\n",
    "\n",
    "jg = 12.0*float(sl)*160.0 # Yearly income at average of 160 hours per month.\n",
    "\n",
    "print (jg)\n",
    "\n",
    "if (jg < 15000.0) : ghk = 'Geringverdiener'\n",
    "if (jg >= 15000.0 and jg < 50000.0) : ghk = 'Normalverdiener'\n",
    "if (jg > 50000.0) : ghk = 'Vielverdiener'\n",
    "\n",
    "print ('Mit einem Jahresgehalt von'), jg, (' Euro sind Sie : '), ghk"
   ]
  }
 ],
 "metadata": {
  "kernelspec": {
   "display_name": "Python 3 (ipykernel)",
   "language": "python",
   "name": "python3"
  },
  "language_info": {
   "codemirror_mode": {
    "name": "ipython",
    "version": 3
   },
   "file_extension": ".py",
   "mimetype": "text/x-python",
   "name": "python",
   "nbconvert_exporter": "python",
   "pygments_lexer": "ipython3",
   "version": "3.9.12"
  }
 },
 "nbformat": 4,
 "nbformat_minor": 5
}
