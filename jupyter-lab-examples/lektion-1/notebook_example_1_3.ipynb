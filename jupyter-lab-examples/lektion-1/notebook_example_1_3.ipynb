{
 "cells": [
  {
   "cell_type": "code",
   "execution_count": 1,
   "id": "f4962655-a1c5-4efb-b97e-b36099d232f7",
   "metadata": {},
   "outputs": [
    {
     "name": "stdout",
     "output_type": "stream",
     "text": [
      "[[[32, 34, 34], [36, 40, 38], [30, 36, 33]], [[32, 34, 34], [36, 40, 38], [30, 36, 33]], [[32, 34, 34], [36, 40, 38], [30, 36, 33]]]\n"
     ]
    }
   ],
   "source": [
    "####################################################################################################################\n",
    "#                                                                                                                  #\n",
    "#    Autor: Dr. A. Schelle. Copyright : IU Internationale Hochschule GmbH, Juri-Gagarin-Ring 152, D-99084 Erfurt   #\n",
    "#                                                                                                                  #\n",
    "####################################################################################################################\n",
    "\n",
    "import os\n",
    "import sys\n",
    "import math\n",
    "\n",
    "M = [[1,4,3], [2,4,4], [3,3,3]] # First Matrix M\n",
    "N = [[2,4,3], [6,6,7], [2,2,1]] # Second Matrix N\n",
    "\n",
    "def product(m, n) : # Function for matrix multiplication\n",
    "\n",
    "    result = [[sum(a*b for a,b in zip(M_row,N_col)) for N_col in zip(*N)] for M_row in M] # Perform matrix multiplication\n",
    "\n",
    "    return result\n",
    "\n",
    "map_instance = list(map(product, M, N)) # Multiply two matrices in three different blocks\n",
    "reduce_instance = map_instance[0] # Reduce to only first of three blocks\n",
    "\n",
    "print(map_instance) # Show result\n"
   ]
  },
  {
   "cell_type": "code",
   "execution_count": null,
   "id": "4893a697-f1a6-4e09-8425-b01fdd1fbc10",
   "metadata": {},
   "outputs": [],
   "source": []
  }
 ],
 "metadata": {
  "kernelspec": {
   "display_name": "Python 3 (ipykernel)",
   "language": "python",
   "name": "python3"
  },
  "language_info": {
   "codemirror_mode": {
    "name": "ipython",
    "version": 3
   },
   "file_extension": ".py",
   "mimetype": "text/x-python",
   "name": "python",
   "nbconvert_exporter": "python",
   "pygments_lexer": "ipython3",
   "version": "3.9.13"
  }
 },
 "nbformat": 4,
 "nbformat_minor": 5
}
