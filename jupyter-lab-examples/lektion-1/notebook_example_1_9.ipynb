{
 "cells": [
  {
   "cell_type": "code",
   "execution_count": 1,
   "id": "c120f48b-07af-4f98-bc4a-0d4fba6a2ee8",
   "metadata": {},
   "outputs": [
    {
     "name": "stdout",
     "output_type": "stream",
     "text": [
      "[-0.02020202020202011] [-1.1515151515151514, 1.1111111111111112]\n"
     ]
    },
    {
     "data": {
      "image/png": "[encoded data removed]",
      "text/plain": [
       "<Figure size 432x288 with 1 Axes>"
      ]
     },
     "metadata": {
      "needs_background": "light"
     },
     "output_type": "display_data"
    }
   ],
   "source": [
    "####################################################################################################################\n",
    "#                                                                                                                  #\n",
    "#    Autor: Dr. A. Schelle. Copyright : IU Internationale Hochschule GmbH, Juri-Gagarin-Ring 152, D-99084 Erfurt   #\n",
    "#                                                                                                                  #\n",
    "####################################################################################################################\n",
    "\n",
    "import os\n",
    "import sys\n",
    "import math\n",
    "from unittest import result\n",
    "import numpy\n",
    "import numpy as np\n",
    "import numdifftools as nd\n",
    "import matplotlib.pyplot as plt\n",
    "\n",
    "#Importing sympy\n",
    " \n",
    "from sympy import *\n",
    " \n",
    "x = np.linspace(-2, 2, 100)\n",
    "\n",
    "maximum = []\n",
    "minimum = []\n",
    "\n",
    "df = nd.Derivative(np.tanh, n=4) # Calculate the i-fold derivative of the tanh function\n",
    "y = df(x) # Quantify the derivates at the linesspace from -2 to +2\n",
    "    \n",
    "plt.xlabel('x', fontsize = 10)\n",
    "plt.ylabel('tanh(x)', fontsize = 10)\n",
    "\n",
    "h = plt.plot(x, y/np.abs(y).max()) # Plot the derivates of the tanh derivate functions\n",
    "plt.savefig('/Users/dr.a.schelle/Desktop/IUBH/DLBDSIDSD/Lektion_1/Python_Examples/fig_1.png') # Save the figure to the correct path - Note: find the correct path with terminal call 'pwd'\n",
    "\n",
    "for k in range(len(y)-1):\n",
    "\n",
    "    if (y[k]/np.abs(y).max() < 0.0 and y[k+1]/np.abs(y).max() > 0.0) : # Zero's of the positive derivates define the maxima of the integrated function.\n",
    "            \n",
    "        maximum.append(x[k]) # Append all maxima\n",
    "\n",
    "    if (y[k]/np.abs(y).max() > 0.0 and y[k+1]/np.abs(y).max() < 0.0) : # Zero's of the negative derivates define the maxima of the integrated function.\n",
    "            \n",
    "        minimum.append(x[k]) # Append all minima\n",
    "\n",
    "        # Plot the derivates of the tanh derivate functions\n",
    "\n",
    "print (maximum, minimum) # Print all maxima and minima\n",
    "\n"
   ]
  },
  {
   "cell_type": "code",
   "execution_count": null,
   "id": "871487a8-c6ac-4c41-9609-322b765af205",
   "metadata": {},
   "outputs": [],
   "source": []
  }
 ],
 "metadata": {
  "kernelspec": {
   "display_name": "Python 3 (ipykernel)",
   "language": "python",
   "name": "python3"
  },
  "language_info": {
   "codemirror_mode": {
    "name": "ipython",
    "version": 3
   },
   "file_extension": ".py",
   "mimetype": "text/x-python",
   "name": "python",
   "nbconvert_exporter": "python",
   "pygments_lexer": "ipython3",
   "version": "3.9.13"
  }
 },
 "nbformat": 4,
 "nbformat_minor": 5
}
