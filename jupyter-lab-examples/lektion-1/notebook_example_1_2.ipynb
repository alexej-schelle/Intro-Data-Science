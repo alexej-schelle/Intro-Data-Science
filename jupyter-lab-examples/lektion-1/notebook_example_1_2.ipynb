{
 "cells": [
  {
   "cell_type": "code",
   "execution_count": null,
   "id": "5b8cef04-0b39-4f19-a791-2f1033a215a3",
   "metadata": {},
   "outputs": [
    {
     "name": "stdout",
     "output_type": "stream",
     "text": [
      "Bitte geben Sie den vorgeschlagenen Stundenlohn in Euro an :\n"
     ]
    }
   ],
   "source": [
    "####################################################################################################################\n",
    "#                                                                                                                  #\n",
    "#    Autor: Dr. A. Schelle. Copyright : IU Internationale Hochschule GmbH, Juri-Gagarin-Ring 152, D-99084 Erfurt   #\n",
    "#                                                                                                                  #\n",
    "####################################################################################################################\n",
    "\n",
    "import os\n",
    "import sys\n",
    "import math\n",
    "\n",
    "jg = 0.0 # Yearly income\n",
    "sl = 0.0 # Hourly income\n",
    "\n",
    "ghk = ''; # Income class\n",
    "\n",
    "print('Bitte geben Sie den vorgeschlagenen Stundenlohn in Euro an :')\n",
    "\n",
    "sl = input()\n",
    "\n",
    "jg = 12.0*float(sl)*160.0 # Yearly income at 160 hours per month.\n",
    "\n",
    "if (jg < 15000.0) : ghk = 'Geringverdiener'\n",
    "if (jg >= 15000.0) : ghk = 'Normalverdiener'\n",
    "\n",
    "print('Bitte geben Sie den vorgeschlagenen Stundenlohn in Euro an :')\n",
    "\n",
    "sl_neu = input()\n",
    "\n",
    "jg_neu = 12.0*float(sl_neu)*160.0 # Yearly income at 160 hours per month.\n",
    "\n",
    "if (jg < 15000.0 and jg_neu < 15000) : ghk = 'Geringverdiener'\n",
    "if (jg >= 15000.0 and jg_neu < 15000) : ghk = 'Geringverdiener bis Normalverdiener'\n",
    "if (jg < 15000.0 and jg_neu > 15000) : ghk = 'Geringverdiener bis Normalverdiener'\n",
    "if (jg >= 15000.0 and jg_neu > 15000) : ghk = 'Normalverdiener'\n",
    "\n",
    "print (('Mit einem durchschnittlichen Jahresgehalt von'), float(jg+jg_neu)/2.0, (' Euro sind Sie : '), ghk)\n"
   ]
  }
 ],
 "metadata": {
  "kernelspec": {
   "display_name": "Python 3 (ipykernel)",
   "language": "python",
   "name": "python3"
  },
  "language_info": {
   "codemirror_mode": {
    "name": "ipython",
    "version": 3
   },
   "file_extension": ".py",
   "mimetype": "text/x-python",
   "name": "python",
   "nbconvert_exporter": "python",
   "pygments_lexer": "ipython3",
   "version": "3.9.13"
  }
 },
 "nbformat": 4,
 "nbformat_minor": 5
}
