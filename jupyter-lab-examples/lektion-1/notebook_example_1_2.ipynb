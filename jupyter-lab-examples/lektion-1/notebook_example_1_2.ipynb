{
 "cells": [
  {
   "cell_type": "code",
   "execution_count": null,
   "id": "a34133f8-ed87-4e87-b586-2d470db85ac5",
   "metadata": {},
   "outputs": [],
   "source": [
    "#########################################################################################################################################\n",
    "#                                                                                                                                       #\n",
    "#    Autor: Dr. A. Schelle (support@krealix.de). Copyright : IU Internationale Hochschule GmbH, Juri-Gagarin-Ring 152, D-99084 Erfurt   #\n",
    "#                                                                                                                                       #\n",
    "#########################################################################################################################################\n",
    "\n",
    "# PYTHON ROUTINE zur Implementierung der Python pandas Library #\n",
    "\n",
    "import os\n",
    "import sys\n",
    "import math\n",
    "import numpy\n",
    "import numpy as np\n",
    "import matplotlib.pyplot as plt\n",
    "import pandas\n",
    "import pandas as pd\n",
    "from IPython.display import display\n",
    "\n",
    "dt = {'Student':[\"Student 1\", \"Student 2\", \"Student 3\"], 'Fachrichtung' : [\"Fachrichtung Student 1\", \"Fachrichtung Student 2\", \"Fachrichtung Student 3\"], \n",
    "'Geburtsdatum':[\"Geburtsdatum Student 1\", \"Geburtsdatum Student 2\", \"Geburtsdatum Student 3\"]} # Definition of input array\n",
    "\n",
    "dt_pandas = pd.DataFrame(dt) # Create Pandas Data Framework (Pandas Table)\n",
    "\n",
    "display(dt_pandas) # Show Pandas Table\n"
   ]
  }
 ],
 "metadata": {
  "kernelspec": {
   "display_name": "Python 3 (ipykernel)",
   "language": "python",
   "name": "python3"
  },
  "language_info": {
   "codemirror_mode": {
    "name": "ipython",
    "version": 3
   },
   "file_extension": ".py",
   "mimetype": "text/x-python",
   "name": "python",
   "nbconvert_exporter": "python",
   "pygments_lexer": "ipython3",
   "version": "3.9.12"
  }
 },
 "nbformat": 4,
 "nbformat_minor": 5
}
