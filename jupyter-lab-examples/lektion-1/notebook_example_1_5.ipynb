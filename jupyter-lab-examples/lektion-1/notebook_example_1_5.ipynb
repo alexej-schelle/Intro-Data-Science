{
 "cells": [
  {
   "cell_type": "code",
   "execution_count": null,
   "id": "a34133f8-ed87-4e87-b586-2d470db85ac5",
   "metadata": {},
   "outputs": [],
   "source": [
    "#########################################################################################################################################\n",
    "#                                                                                                                                       #\n",
    "#    Autor: Dr. A. Schelle (support@krealix.de). Copyright : IU Internationale Hochschule GmbH, Juri-Gagarin-Ring 152, D-99084 Erfurt   #\n",
    "#                                                                                                                                       #\n",
    "#########################################################################################################################################\n",
    "\n",
    "import os\n",
    "import sys\n",
    "import math\n",
    "\n",
    "M = [[1,4,3], [2,4,4], [3,3,3]] # First Matrix M\n",
    "N = [[2,4,3], [6,6,7], [2,2,1]] # Second Matrix N\n",
    "\n",
    "def product(m, n) : # Function for matrix multiplication\n",
    "\n",
    "    result = [[sum(a*b for a,b in zip(M_row,N_col)) for N_col in zip(*N)] for M_row in M] # Perform matrix multiplication\n",
    "\n",
    "    return result\n",
    "\n",
    "map_instance = list(map(product, M, N)) # Multiply two matrices in three different blocks\n",
    "reduce_instance = map_instance[0] # Reduce to only first of three blocks\n",
    "\n",
    "print(map_instance) # Show result\n"
   ]
  }
 ],
 "metadata": {
  "kernelspec": {
   "display_name": "Python 3 (ipykernel)",
   "language": "python",
   "name": "python3"
  },
  "language_info": {
   "codemirror_mode": {
    "name": "ipython",
    "version": 3
   },
   "file_extension": ".py",
   "mimetype": "text/x-python",
   "name": "python",
   "nbconvert_exporter": "python",
   "pygments_lexer": "ipython3",
   "version": "3.9.12"
  }
 },
 "nbformat": 4,
 "nbformat_minor": 5
}
