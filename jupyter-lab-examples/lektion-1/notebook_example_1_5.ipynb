{
 "cells": [
  {
   "cell_type": "code",
   "execution_count": 1,
   "id": "ee0c788f-a311-4b31-bc54-35f13609bbec",
   "metadata": {},
   "outputs": [
    {
     "data": {
      "text/html": [
       "<div>\n",
       "<style scoped>\n",
       "    .dataframe tbody tr th:only-of-type {\n",
       "        vertical-align: middle;\n",
       "    }\n",
       "\n",
       "    .dataframe tbody tr th {\n",
       "        vertical-align: top;\n",
       "    }\n",
       "\n",
       "    .dataframe thead th {\n",
       "        text-align: right;\n",
       "    }\n",
       "</style>\n",
       "<table border=\"1\" class=\"dataframe\">\n",
       "  <thead>\n",
       "    <tr style=\"text-align: right;\">\n",
       "      <th></th>\n",
       "      <th>Student</th>\n",
       "      <th>Fachrichtung</th>\n",
       "      <th>Geburtsdatum</th>\n",
       "    </tr>\n",
       "  </thead>\n",
       "  <tbody>\n",
       "    <tr>\n",
       "      <th>0</th>\n",
       "      <td>Student 1</td>\n",
       "      <td>Fachrichtung Student 1</td>\n",
       "      <td>Geburtsdatum Student 1</td>\n",
       "    </tr>\n",
       "    <tr>\n",
       "      <th>1</th>\n",
       "      <td>Student 2</td>\n",
       "      <td>Fachrichtung Student 2</td>\n",
       "      <td>Geburtsdatum Student 2</td>\n",
       "    </tr>\n",
       "    <tr>\n",
       "      <th>2</th>\n",
       "      <td>Student 3</td>\n",
       "      <td>Fachrichtung Student 3</td>\n",
       "      <td>Geburtsdatum Student 3</td>\n",
       "    </tr>\n",
       "  </tbody>\n",
       "</table>\n",
       "</div>"
      ],
      "text/plain": [
       "     Student            Fachrichtung            Geburtsdatum\n",
       "0  Student 1  Fachrichtung Student 1  Geburtsdatum Student 1\n",
       "1  Student 2  Fachrichtung Student 2  Geburtsdatum Student 2\n",
       "2  Student 3  Fachrichtung Student 3  Geburtsdatum Student 3"
      ]
     },
     "metadata": {},
     "output_type": "display_data"
    }
   ],
   "source": [
    "####################################################################################################################\n",
    "#                                                                                                                  #\n",
    "#    Autor: Dr. A. Schelle. Copyright : IU Internationale Hochschule GmbH, Juri-Gagarin-Ring 152, D-99084 Erfurt   #\n",
    "#                                                                                                                  #\n",
    "####################################################################################################################\n",
    "\n",
    "import os\n",
    "import sys\n",
    "import math\n",
    "import numpy\n",
    "import numpy as np\n",
    "import matplotlib.pyplot as plt\n",
    "import pandas\n",
    "import pandas as pd\n",
    "from IPython.display import display\n",
    "\n",
    "dt = {'Student':[\"Student 1\", \"Student 2\", \"Student 3\"], 'Fachrichtung' : [\"Fachrichtung Student 1\", \"Fachrichtung Student 2\", \"Fachrichtung Student 3\"], \n",
    "'Geburtsdatum':[\"Geburtsdatum Student 1\", \"Geburtsdatum Student 2\", \"Geburtsdatum Student 3\"]} # Definition of input array\n",
    "\n",
    "dt_pandas = pd.DataFrame(dt) # Create Pandas Data Framework (Pandas Table)\n",
    "\n",
    "display(dt_pandas) # Show Pandas Table\n"
   ]
  },
  {
   "cell_type": "code",
   "execution_count": null,
   "id": "5ccd02db-44bb-41db-bfee-73d91a7d2aea",
   "metadata": {},
   "outputs": [],
   "source": []
  }
 ],
 "metadata": {
  "kernelspec": {
   "display_name": "Python 3 (ipykernel)",
   "language": "python",
   "name": "python3"
  },
  "language_info": {
   "codemirror_mode": {
    "name": "ipython",
    "version": 3
   },
   "file_extension": ".py",
   "mimetype": "text/x-python",
   "name": "python",
   "nbconvert_exporter": "python",
   "pygments_lexer": "ipython3",
   "version": "3.9.13"
  }
 },
 "nbformat": 4,
 "nbformat_minor": 5
}
