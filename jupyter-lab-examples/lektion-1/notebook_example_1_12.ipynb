{
 "cells": [
  {
   "cell_type": "code",
   "execution_count": null,
   "id": "a34133f8-ed87-4e87-b586-2d470db85ac5",
   "metadata": {},
   "outputs": [],
   "source": [
    "#########################################################################################################################################\n",
    "#                                                                                                                                       #\n",
    "#    Autor: Dr. A. Schelle (support@krealix.de). Copyright : IU Internationale Hochschule GmbH, Juri-Gagarin-Ring 152, D-99084 Erfurt   #\n",
    "#                                                                                                                                       #\n",
    "#########################################################################################################################################\n",
    "\n",
    "# PYTHON ROUTINE zur Berechnung der Kreiszahl pi mit Zufallszahlen #\n",
    "\n",
    "import os\n",
    "from platform import java_ver\n",
    "import sys\n",
    "import math\n",
    "import random\n",
    "import numpy\n",
    "import numpy as np\n",
    "import pylab\n",
    "import matplotlib.pyplot as plt\n",
    "import operator\n",
    "\n",
    "\n",
    "n_total = 0\n",
    "n_hits = 0\n",
    "a = 1.0\n",
    "\n",
    "x =[]\n",
    "y = []\n",
    "\n",
    "while 1 < 2 :\n",
    "\n",
    "    m = random.uniform(-a,a)\n",
    "    n = random.uniform(-a,a)\n",
    "\n",
    "    n_total = n_total + 1\n",
    "\n",
    "    if (m**2 + n**2 < a**2) : \n",
    "        \n",
    "        n_hits = n_hits + 1\n",
    "\n",
    "        x.append(m)\n",
    "        y.append(n)\n",
    " \n",
    "    if (math.fabs(4.0*float(n_hits)/float(n_total) - math.pi) < 1.0E-10) :\n",
    "        \n",
    "        print float(n_total)\n",
    "        print 4.0*float(n_hits)/float(n_total)\n",
    "\n",
    "        break\n",
    "\n",
    "plt.figure(1) # Initiate plot of figure\n",
    "plt.xlabel('x', fontsize = 10)\n",
    "plt.ylabel('y', fontsize = 10)\n",
    "plt.hist2d(x, y, bins = 250) # Plot the figure\n",
    "plt.savefig('/path_to_figure/') # Save the figure to the correct path. You can find your path with the command 'pwd'.\n",
    "\n"
   ]
  }
 ],
 "metadata": {
  "kernelspec": {
   "display_name": "Python 3 (ipykernel)",
   "language": "python",
   "name": "python3"
  },
  "language_info": {
   "codemirror_mode": {
    "name": "ipython",
    "version": 3
   },
   "file_extension": ".py",
   "mimetype": "text/x-python",
   "name": "python",
   "nbconvert_exporter": "python",
   "pygments_lexer": "ipython3",
   "version": "3.9.12"
  }
 },
 "nbformat": 4,
 "nbformat_minor": 5
}
