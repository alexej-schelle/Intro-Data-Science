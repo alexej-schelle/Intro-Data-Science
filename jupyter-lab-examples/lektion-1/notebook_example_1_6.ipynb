{
 "cells": [
  {
   "cell_type": "code",
   "execution_count": null,
   "id": "a34133f8-ed87-4e87-b586-2d470db85ac5",
   "metadata": {},
   "outputs": [],
   "source": [
    "#########################################################################################################################################\n",
    "#                                                                                                                                       #\n",
    "#    Autor: Dr. A. Schelle (support@krealix.de). Copyright : IU Internationale Hochschule GmbH, Juri-Gagarin-Ring 152, D-99084 Erfurt   #\n",
    "#                                                                                                                                       #\n",
    "#########################################################################################################################################\n",
    "\n",
    "# PYTHON ROUTINE für die Berechnung einfacher Eigenwertgleichungen #\n",
    "\n",
    "import os\n",
    "import sys\n",
    "import math\n",
    "import numpy\n",
    "import numpy as np\n",
    "\n",
    "A = [[1,2,5],[4,1,3],[3,2,1]] # Define matrix\n",
    "\n",
    "lb, W = np.linalg.eig(A) # Calculate the eigenvalues and eigenvactors of the matrix\n",
    "\n",
    "print('Eigenvektor 1: ', W[0], 'Eigenwert 1: ',lb[0]) # Print the first eigenvalue and eigenvactor of the matrix\n",
    "print('Eigenvektor 2: ', W[1], 'Eigenwert 2: ',lb[1]) # Print the second eigenvalue and eigenvactor of the matrix\n",
    "print('Eigenvektor 3: ', W[2], 'Eigenwert 3: ',lb[2]) # Print the third eigenvalue and eigenvactor of the matrix\n"
   ]
  }
 ],
 "metadata": {
  "kernelspec": {
   "display_name": "Python 3 (ipykernel)",
   "language": "python",
   "name": "python3"
  },
  "language_info": {
   "codemirror_mode": {
    "name": "ipython",
    "version": 3
   },
   "file_extension": ".py",
   "mimetype": "text/x-python",
   "name": "python",
   "nbconvert_exporter": "python",
   "pygments_lexer": "ipython3",
   "version": "3.9.12"
  }
 },
 "nbformat": 4,
 "nbformat_minor": 5
}
