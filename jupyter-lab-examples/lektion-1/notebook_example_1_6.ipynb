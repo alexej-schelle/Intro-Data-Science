{
 "cells": [
  {
   "cell_type": "code",
   "execution_count": 1,
   "id": "4ce57168-4510-4587-9852-e30eb174e192",
   "metadata": {},
   "outputs": [
    {
     "name": "stdout",
     "output_type": "stream",
     "text": [
      "Eigenvektor 1:  [-0.60152543 -0.75099704  0.5034147 ] Eigenwert 1:  7.193875144486368\n",
      "Eigenvektor 2:  [-0.62775821  0.58730569 -0.86030763] Eigenwert 2:  -2.5733124465654265\n",
      "Eigenvektor 3:  [-0.4940514   0.30178713  0.0802771 ] Eigenwert 3:  -1.6205626979209349\n"
     ]
    }
   ],
   "source": [
    "####################################################################################################################\n",
    "#                                                                                                                  #\n",
    "#    Autor: Dr. A. Schelle. Copyright : IU Internationale Hochschule GmbH, Juri-Gagarin-Ring 152, D-99084 Erfurt   #\n",
    "#                                                                                                                  #\n",
    "####################################################################################################################\n",
    "\n",
    "import os\n",
    "import sys\n",
    "import math\n",
    "import numpy\n",
    "import numpy as np\n",
    "\n",
    "A = [[1,2,5],[4,1,3],[3,2,1]] # Define matrix\n",
    "\n",
    "lb, W = np.linalg.eig(A) # Calculate the eigenvalues and eigenvactors of the matrix\n",
    "\n",
    "print('Eigenvektor 1: ', W[0], 'Eigenwert 1: ',lb[0]) # Print the first eigenvalue and eigenvactor of the matrix\n",
    "print('Eigenvektor 2: ', W[1], 'Eigenwert 2: ',lb[1]) # Print the second eigenvalue and eigenvactor of the matrix\n",
    "print('Eigenvektor 3: ', W[2], 'Eigenwert 3: ',lb[2]) # Print the third eigenvalue and eigenvactor of the matrix\n"
   ]
  },
  {
   "cell_type": "code",
   "execution_count": null,
   "id": "6e15c5e0-2335-41cf-b311-a191c001502e",
   "metadata": {},
   "outputs": [],
   "source": []
  }
 ],
 "metadata": {
  "kernelspec": {
   "display_name": "Python 3 (ipykernel)",
   "language": "python",
   "name": "python3"
  },
  "language_info": {
   "codemirror_mode": {
    "name": "ipython",
    "version": 3
   },
   "file_extension": ".py",
   "mimetype": "text/x-python",
   "name": "python",
   "nbconvert_exporter": "python",
   "pygments_lexer": "ipython3",
   "version": "3.9.13"
  }
 },
 "nbformat": 4,
 "nbformat_minor": 5
}
