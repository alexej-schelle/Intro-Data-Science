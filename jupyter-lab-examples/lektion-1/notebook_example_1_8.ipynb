{
 "cells": [
  {
   "cell_type": "code",
   "execution_count": null,
   "id": "a34133f8-ed87-4e87-b586-2d470db85ac5",
   "metadata": {},
   "outputs": [],
   "source": [
    "#########################################################################################################################################\n",
    "#                                                                                                                                       #\n",
    "#    Autor: Dr. A. Schelle (support@krealix.de). Copyright : IU Internationale Hochschule GmbH, Juri-Gagarin-Ring 152, D-99084 Erfurt   #\n",
    "#                                                                                                                                       #\n",
    "#########################################################################################################################################\n",
    "\n",
    "# PYTHON ROUTINE für die Erzeugung eines Wellenpakets aus der tanh Funktion #\n",
    "\n",
    "import os\n",
    "import sys\n",
    "import math\n",
    "from unittest import result\n",
    "import numpy\n",
    "import numpy as np\n",
    "import numdifftools as nd\n",
    "import matplotlib.pyplot as plt\n",
    "\n",
    "# Importing sympy\n",
    " \n",
    "from sympy import *\n",
    " \n",
    "x = np.linspace(-2, 2, 100)\n",
    "\n",
    "plt.figure(1) # Initiate plot of figure\n",
    " \n",
    "for i in range(10): # Iterate the functions over i up to ten or more times\n",
    "    \n",
    "    df = nd.Derivative(np.tanh, n=i) # Calculate the i-fold derivative of the tanh function\n",
    "    y = df(x) # Quantify the derivates at the linesspace from -2 to +2\n",
    "\n",
    "    plt.xlabel('x', fontsize = 10)\n",
    "    plt.ylabel('tanh(x)', fontsize = 10)\n",
    "\n",
    "    h = plt.plot(x, y/np.abs(y).max()) # Plot the derivates of the tanh derivate functions\n",
    "    plt.savefig('/path_to_figure/') # Save the figure to the correct path. You can find your path with the command 'pwd'.\n"
   ]
  }
 ],
 "metadata": {
  "kernelspec": {
   "display_name": "Python 3 (ipykernel)",
   "language": "python",
   "name": "python3"
  },
  "language_info": {
   "codemirror_mode": {
    "name": "ipython",
    "version": 3
   },
   "file_extension": ".py",
   "mimetype": "text/x-python",
   "name": "python",
   "nbconvert_exporter": "python",
   "pygments_lexer": "ipython3",
   "version": "3.9.12"
  }
 },
 "nbformat": 4,
 "nbformat_minor": 5
}
