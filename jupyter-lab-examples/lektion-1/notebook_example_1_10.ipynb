{
 "cells": [
  {
   "cell_type": "code",
   "execution_count": null,
   "id": "a34133f8-ed87-4e87-b586-2d470db85ac5",
   "metadata": {},
   "outputs": [],
   "source": [
    "#########################################################################################################################################\n",
    "#                                                                                                                                       #\n",
    "#    Autor: Dr. A. Schelle (support@krealix.de). Copyright : IU Internationale Hochschule GmbH, Juri-Gagarin-Ring 152, D-99084 Erfurt   #\n",
    "#                                                                                                                                       #\n",
    "#########################################################################################################################################\n",
    "\n",
    "# PYTHON ROUTINE für einen einfachen Lernalgorithmus #\n",
    "\n",
    "import os\n",
    "import sys\n",
    "import math\n",
    "from unittest import result\n",
    "import numpy\n",
    "import numpy as np\n",
    "import numdifftools asa nd\n",
    "import matplotlib.pyplot as plt\n",
    "\n",
    "# Importing sympy\n",
    " \n",
    "from sympy import *\n",
    " \n",
    "x = np.linspace(-2, 2, 100)\n",
    "\n",
    "learning_rate = -0.01\n",
    "maximum = 0.0\n",
    "\n",
    "df = nd.Derivative(np.tanh, n=2) # Calculate the i-fold derivative of the tanh function\n",
    "y = df(x) # Quantify the derivates at the linesspace from -2 to +2\n",
    "\n",
    "maximum = -0.20\n",
    "\n",
    "while 1 < 2:\n",
    "\n",
    "    maximum = maximum - learning_rate*df(maximum)\n",
    "\n",
    "    if (math.fabs(learning_rate*df(maximum)) < 1.0E-4):\n",
    "       \n",
    "        break\n",
    "\n",
    "print(maximum)"
   ]
  }
 ],
 "metadata": {
  "kernelspec": {
   "display_name": "Python 3 (ipykernel)",
   "language": "python",
   "name": "python3"
  },
  "language_info": {
   "codemirror_mode": {
    "name": "ipython",
    "version": 3
   },
   "file_extension": ".py",
   "mimetype": "text/x-python",
   "name": "python",
   "nbconvert_exporter": "python",
   "pygments_lexer": "ipython3",
   "version": "3.9.12"
  }
 },
 "nbformat": 4,
 "nbformat_minor": 5
}
