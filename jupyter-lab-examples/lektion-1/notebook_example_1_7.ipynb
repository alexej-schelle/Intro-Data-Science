{
 "cells": [
  {
   "cell_type": "code",
   "execution_count": 1,
   "id": "9f813b6a-2a56-4c0a-b3aa-7ebbcd5c592c",
   "metadata": {},
   "outputs": [
    {
     "name": "stdout",
     "output_type": "stream",
     "text": [
      "The formal derivate is defined as :  2*x\n",
      "The value of the formal derivative at x = 4 is :  16\n"
     ]
    }
   ],
   "source": [
    "####################################################################################################################\n",
    "#                                                                                                                  #\n",
    "#    Autor: Dr. A. Schelle. Copyright : IU Internationale Hochschule GmbH, Juri-Gagarin-Ring 152, D-99084 Erfurt   #\n",
    "#                                                                                                                  #\n",
    "####################################################################################################################\n",
    "\n",
    "import os\n",
    "import sys\n",
    "import math\n",
    "from unittest import result\n",
    "import numpy\n",
    "import numpy as np\n",
    "import numdifftools as nd\n",
    "import matplotlib.pyplot as plt\n",
    "\n",
    "# Importing sympy\n",
    " \n",
    "from sympy import *\n",
    " \n",
    "x = Symbol('x') # Create a \"symbol\" called x\n",
    " \n",
    "f = x**2 # Define function\n",
    " \n",
    "derivative_f = f.diff(x) # Calculating the derivative\n",
    "print('The formal derivate is defined as : ', derivative_f) # Show the form of the derivate\n",
    "\n",
    "f_prime = lambdify(x,f) # Make derivate of f valuable\n",
    "print('The value of the formal derivative at x = 4 is : ', f_prime(4)) # Calculate the derivative at x = 4\n"
   ]
  },
  {
   "cell_type": "code",
   "execution_count": null,
   "id": "a1c9b62d-74b5-4b13-bec6-248f6f640456",
   "metadata": {},
   "outputs": [],
   "source": []
  }
 ],
 "metadata": {
  "kernelspec": {
   "display_name": "Python 3 (ipykernel)",
   "language": "python",
   "name": "python3"
  },
  "language_info": {
   "codemirror_mode": {
    "name": "ipython",
    "version": 3
   },
   "file_extension": ".py",
   "mimetype": "text/x-python",
   "name": "python",
   "nbconvert_exporter": "python",
   "pygments_lexer": "ipython3",
   "version": "3.9.13"
  }
 },
 "nbformat": 4,
 "nbformat_minor": 5
}
