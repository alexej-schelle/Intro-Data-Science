{
 "cells": [
  {
   "cell_type": "code",
   "execution_count": null,
   "id": "b06516a7-dc5b-458f-8091-c4b3c6929c14",
   "metadata": {},
   "outputs": [],
   "source": [
    "import os\n",
    "from platform import java_ver\n",
    "import sys\n",
    "import math\n",
    "import random\n",
    "import numpy\n",
    "import numpy as np\n",
    "import pylab\n",
    "import matplotlib.pyplot as plt\n",
    "import operator\n",
    "from sklearn import preprocessing\n",
    "\n",
    "A = [[ 1., -1.,  2.], [ 2.,  0.,  0.], [ 0.,  1., -1.]] # Implement matrix without normalization\n",
    "\n",
    "print('')\n",
    "\n",
    "print('Matrix Norm 1')\n",
    "\n",
    "A_normalized_1 = preprocessing.normalize(A, norm='l1') # Normlize matrix A with Matrixnorm 1\n",
    "print(A_normalized_1) # Print normalized matrix with Matrixnorm 1\n",
    "\n",
    "print('')\n",
    "\n",
    "print('Matrix Norm 2')\n",
    "\n",
    "A_normalized_2 = preprocessing.normalize(A, norm='l2') # Normlize matrix A with Matrixnorm 1\n",
    "print(A_normalized_2) # Print normalized matrix with Matrixnorm 2\n",
    "\n",
    "print('')\n",
    "\n",
    "print('Matrix Norm max')\n",
    "\n",
    "A_normalized_max = preprocessing.normalize(A, norm='max') # Normlize matrix A with Matrixnorm 1\n",
    "print(A_normalized_max) # Print normalized matrix with Matrixnorm max\n",
    "\n",
    "print('')\n"
   ]
  }
 ],
 "metadata": {
  "kernelspec": {
   "display_name": "Python 3 (ipykernel)",
   "language": "python",
   "name": "python3"
  },
  "language_info": {
   "codemirror_mode": {
    "name": "ipython",
    "version": 3
   },
   "file_extension": ".py",
   "mimetype": "text/x-python",
   "name": "python",
   "nbconvert_exporter": "python",
   "pygments_lexer": "ipython3",
   "version": "3.9.13"
  }
 },
 "nbformat": 4,
 "nbformat_minor": 5
}
